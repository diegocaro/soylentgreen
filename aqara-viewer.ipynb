{
 "cells": [
  {
   "cell_type": "code",
   "execution_count": 1,
   "id": "cc6676de",
   "metadata": {},
   "outputs": [],
   "source": [
    "from IPython.display import display\n",
    "from ipywidgets import Image, HBox, Dropdown, VBox, SelectionSlider, Layout\n",
    "import cv2\n"
   ]
  },
  {
   "cell_type": "code",
   "execution_count": 2,
   "id": "2903bd4b",
   "metadata": {},
   "outputs": [],
   "source": [
    "from pathlib import Path"
   ]
  },
  {
   "cell_type": "code",
   "execution_count": 3,
   "id": "89c6bb83",
   "metadata": {},
   "outputs": [],
   "source": [
    "from timelapse import Timeline"
   ]
  },
  {
   "cell_type": "code",
   "execution_count": 4,
   "id": "df78e1f5-bb8d-4510-ad7e-e309f32f1260",
   "metadata": {},
   "outputs": [],
   "source": [
    "AQARAPATH = \"/mnt/cameras/aqara_video\""
   ]
  },
  {
   "cell_type": "code",
   "execution_count": 5,
   "id": "1467e362",
   "metadata": {},
   "outputs": [],
   "source": [
    "mapping_cameras = {\n",
    "    \"lumi1.54ef44457bc9\": \"Pasto\",\n",
    "    \"lumi1.54ef44603857\": \"Living\",\n",
    "}"
   ]
  },
  {
   "cell_type": "code",
   "execution_count": 6,
   "id": "31af825e",
   "metadata": {},
   "outputs": [],
   "source": [
    "img_widget = Image()"
   ]
  },
  {
   "cell_type": "code",
   "execution_count": 13,
   "id": "1233e710",
   "metadata": {},
   "outputs": [],
   "source": [
    "cameras = [(mapping_cameras.get(c.name, c.name), c) for c in Path(AQARAPATH).glob(\"lumi1.*\")]\n",
    "dropdown_cameras = Dropdown(\n",
    "    options=cameras,\n",
    "    description='Camera:',\n",
    ")\n",
    "dropdown_days = Dropdown(description='Day:')\n",
    "selector_minutes = SelectionSlider(options=[('No videos available', \"\")], description='Minute:', disabled=True, layout=Layout(width='1000px'))\n",
    "clips = []\n",
    "\n",
    "def update_days(*args):\n",
    "    global clips\n",
    "    clips_path = dropdown_cameras.value\n",
    "    clips = Timeline(clips_path).clips\n",
    "\n",
    "    days = sorted(list(set(c.timestamp.date() for c in clips)))\n",
    "    dropdown_days.options = days\n",
    "    # Also update minutes when days change\n",
    "    update_minutes()\n",
    "\n",
    "def update_minutes(*args):\n",
    "    if dropdown_days.value is not None:\n",
    "        selected_day = dropdown_days.value\n",
    "        minutes = [(c.timestamp.strftime(\"%H:%M:%S\"), c.path) for c in clips if c.timestamp.date() == selected_day]\n",
    "        minutes = sorted(minutes)\n",
    "\n",
    "        if minutes:  # Only update if we have options\n",
    "            selector_minutes.options = minutes\n",
    "            selector_minutes.disabled = False\n",
    "        else:\n",
    "            selector_minutes.options = []\n",
    "            selector_minutes.disabled = True\n",
    "\n",
    "def update_video(*args):\n",
    "    if selector_minutes.value is not None:\n",
    "        cap = cv2.VideoCapture(str(selector_minutes.value))\n",
    "        try:\n",
    "            ret, frame = cap.read()\n",
    "            if ret:\n",
    "                _, jpeg = cv2.imencode('.jpg', frame)\n",
    "                img_widget.value = jpeg.tobytes()\n",
    "        finally:\n",
    "            cap.release()\n",
    "            \n",
    "dropdown_cameras.observe(update_days, names='value')\n",
    "dropdown_days.observe(update_minutes, names='value')\n",
    "selector_minutes.observe(update_video, names='value')\n",
    "\n",
    "# Initial update to show something\n",
    "update_days()\n"
   ]
  },
  {
   "cell_type": "code",
   "execution_count": 14,
   "id": "842c92ef",
   "metadata": {},
   "outputs": [
    {
     "data": {
      "application/vnd.jupyter.widget-view+json": {
       "model_id": "6f91522af34d48078f8fc137db12b6e5",
       "version_major": 2,
       "version_minor": 0
      },
      "text/plain": [
       "VBox(children=(Dropdown(description='Camera:', options=(('Pasto', PosixPath('/mnt/cameras/aqara_video/lumi1.54…"
      ]
     },
     "metadata": {},
     "output_type": "display_data"
    }
   ],
   "source": [
    "display(\n",
    "    VBox([dropdown_cameras, dropdown_days, selector_minutes, \n",
    "          HBox([img_widget])]\n",
    "        )\n",
    "\n",
    ")"
   ]
  },
  {
   "cell_type": "code",
   "execution_count": null,
   "id": "9455ad6c",
   "metadata": {},
   "outputs": [],
   "source": [
    "\n",
    "cap = cv2.VideoCapture(str(selector_minutes.value))\n",
    "\n",
    "try:\n",
    "    while True:\n",
    "        ret, frame = cap.read()\n",
    "        if not ret:\n",
    "            break\n",
    "        _, jpeg = cv2.imencode('.jpg', frame)\n",
    "\n",
    "        img_widget.value = jpeg.tobytes()\n",
    "\n",
    "except KeyboardInterrupt:\n",
    "    print(\"Interrupted\")\n",
    "\n",
    "cap.release()\n",
    "    \n"
   ]
  },
  {
   "cell_type": "code",
   "execution_count": null,
   "id": "6cab7fb3",
   "metadata": {},
   "outputs": [],
   "source": []
  }
 ],
 "metadata": {
  "kernelspec": {
   "display_name": "Python 3 (ipykernel)",
   "language": "python",
   "name": "python3"
  },
  "language_info": {
   "codemirror_mode": {
    "name": "ipython",
    "version": 3
   },
   "file_extension": ".py",
   "mimetype": "text/x-python",
   "name": "python",
   "nbconvert_exporter": "python",
   "pygments_lexer": "ipython3",
   "version": "3.12.9"
  }
 },
 "nbformat": 4,
 "nbformat_minor": 5
}
