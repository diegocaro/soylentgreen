{
 "cells": [
  {
   "cell_type": "code",
   "execution_count": 1,
   "id": "763112ad-575a-48b1-b496-5325ec2ebede",
   "metadata": {},
   "outputs": [],
   "source": [
    "%load_ext autoreload\n",
    "%autoreload 2"
   ]
  },
  {
   "cell_type": "code",
   "execution_count": 2,
   "id": "0980e734",
   "metadata": {},
   "outputs": [],
   "source": [
    "from aqara_viewer import create_aqara_viewer"
   ]
  },
  {
   "cell_type": "code",
   "execution_count": 3,
   "id": "753f81ca",
   "metadata": {},
   "outputs": [
    {
     "data": {
      "application/vnd.jupyter.widget-view+json": {
       "model_id": "69133d4ce70e493fbed0c5782e35d65e",
       "version_major": 2,
       "version_minor": 0
      },
      "text/plain": [
       "VBox(children=(Dropdown(description='Camera:', options=(('Pasto', PosixPath('/mnt/hdd/diegocaro/aqara_video/lu…"
      ]
     },
     "metadata": {},
     "output_type": "display_data"
    },
    {
     "data": {
      "text/plain": [
       "<aqara_viewer.AqaraViewer at 0x7ff2f07397c0>"
      ]
     },
     "execution_count": 3,
     "metadata": {},
     "output_type": "execute_result"
    }
   ],
   "source": [
    "# AQARAPATH = \"/mnt/cameras/aqara_video\"\n",
    "AQARAPATH = \"/mnt/hdd/diegocaro/aqara_video\"\n",
    "create_aqara_viewer(AQARAPATH)"
   ]
  },
  {
   "cell_type": "code",
   "execution_count": null,
   "id": "6cab7fb3",
   "metadata": {},
   "outputs": [],
   "source": []
  }
 ],
 "metadata": {
  "kernelspec": {
   "display_name": "Python 3 (ipykernel)",
   "language": "python",
   "name": "python3"
  },
  "language_info": {
   "codemirror_mode": {
    "name": "ipython",
    "version": 3
   },
   "file_extension": ".py",
   "mimetype": "text/x-python",
   "name": "python",
   "nbconvert_exporter": "python",
   "pygments_lexer": "ipython3",
   "version": "3.12.9"
  }
 },
 "nbformat": 4,
 "nbformat_minor": 5
}
