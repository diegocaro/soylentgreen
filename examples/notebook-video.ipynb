{
 "cells": [
  {
   "cell_type": "code",
   "execution_count": 7,
   "id": "b10fc9bc-4e16-4536-ac2f-a820f588d60f",
   "metadata": {},
   "outputs": [
    {
     "data": {
      "application/vnd.jupyter.widget-view+json": {
       "model_id": "b9540e8163e2421aa4efa3994ed9c4f1",
       "version_major": 2,
       "version_minor": 0
      },
      "text/plain": [
       "HBox(children=(Image(value=b''), Image(value=b'')))"
      ]
     },
     "metadata": {},
     "output_type": "display_data"
    },
    {
     "name": "stdout",
     "output_type": "stream",
     "text": [
      "Failed to capture one of the feeds.\n"
     ]
    }
   ],
   "source": [
    "import cv2\n",
    "import time\n",
    "from IPython.display import display\n",
    "from ipywidgets import Image, HBox\n",
    "from glob import glob\n",
    "path = \"/mnt/cameras/aqara_video/lumi1.54ef44457bc9/20250208/\"\n",
    "files = sorted(glob(f\"{path}/*.mp4\"))\n",
    "# Initialize video captures for two webcams (adjust indices if needed)\n",
    "cap1 = cv2.VideoCapture(files[1000])\n",
    "cap2 = cv2.VideoCapture(files[1001])\n",
    "\n",
    "# Create image widgets for each webcam feed\n",
    "img_widget1 = Image()\n",
    "img_widget2 = Image()\n",
    "\n",
    "# Display the two image widgets side by side\n",
    "display(HBox([img_widget1, img_widget2]))\n",
    "\n",
    "try:\n",
    "    while True:\n",
    "        ret1, frame1 = cap1.read()\n",
    "        ret2, frame2 = cap2.read()\n",
    "\n",
    "        if not ret1 or not ret2:\n",
    "            print(\"Failed to capture one of the feeds.\")\n",
    "            break\n",
    "\n",
    "        # (Optional) Process the frames here if needed\n",
    "        \n",
    "        # Encode the frames as JPEG\n",
    "        _, jpeg1 = cv2.imencode('.jpg', frame1)\n",
    "        _, jpeg2 = cv2.imencode('.jpg', frame2)\n",
    "\n",
    "        # Update the widget images with the new frame bytes\n",
    "        img_widget1.value = jpeg1.tobytes()\n",
    "        img_widget2.value = jpeg2.tobytes()\n",
    "\n",
    "        # Adjust delay to control frame rate (if needed)\n",
    "        time.sleep(0.05)\n",
    "except KeyboardInterrupt:\n",
    "    print(\"Stream stopped.\")\n",
    "\n",
    "# Release the video captures when done\n",
    "cap1.release()\n",
    "cap2.release()\n"
   ]
  },
  {
   "cell_type": "code",
   "execution_count": null,
   "id": "dddbbb2e-d5ae-47d5-8229-f2ea045b013d",
   "metadata": {},
   "outputs": [],
   "source": []
  }
 ],
 "metadata": {
  "kernelspec": {
   "display_name": "Python 3 (ipykernel)",
   "language": "python",
   "name": "python3"
  },
  "language_info": {
   "codemirror_mode": {
    "name": "ipython",
    "version": 3
   },
   "file_extension": ".py",
   "mimetype": "text/x-python",
   "name": "python",
   "nbconvert_exporter": "python",
   "pygments_lexer": "ipython3",
   "version": "3.12.9"
  }
 },
 "nbformat": 4,
 "nbformat_minor": 5
}
