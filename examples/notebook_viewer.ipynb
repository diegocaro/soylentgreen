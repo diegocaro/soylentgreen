{
 "cells": [
  {
   "cell_type": "code",
   "execution_count": 1,
   "id": "763112ad-575a-48b1-b496-5325ec2ebede",
   "metadata": {},
   "outputs": [],
   "source": [
    "%load_ext autoreload\n",
    "%autoreload 2"
   ]
  },
  {
   "cell_type": "code",
   "execution_count": 2,
   "id": "0980e734",
   "metadata": {},
   "outputs": [],
   "source": [
    "from aqara_viewer import AqaraViewer"
   ]
  },
  {
   "cell_type": "code",
   "execution_count": 3,
   "id": "753f81ca",
   "metadata": {},
   "outputs": [
    {
     "data": {
      "application/vnd.jupyter.widget-view+json": {
       "model_id": "6b6305313d1b4136b28b3670a3bc0b8b",
       "version_major": 2,
       "version_minor": 0
      },
      "text/plain": [
       "VBox(children=(Dropdown(description='Camera:', options=(('Pasto', PosixPath('/mnt/hdd/diegocaro/aqara_video/lu…"
      ]
     },
     "metadata": {},
     "output_type": "display_data"
    },
    {
     "data": {
      "text/plain": [
       "<aqara_viewer.AqaraViewer at 0x7be4acd05520>"
      ]
     },
     "execution_count": 3,
     "metadata": {},
     "output_type": "execute_result"
    },
    {
     "name": "stderr",
     "output_type": "stream",
     "text": [
      "Exception in thread Thread-5 (refresh_loop):\n",
      "Traceback (most recent call last):\n",
      "  File \"/home/diegocaro/miniconda3/envs/ds/lib/python3.12/threading.py\", line 1075, in _bootstrap_inner\n",
      "    self.run()\n",
      "  File \"/home/diegocaro/miniconda3/envs/ds/lib/python3.12/site-packages/ipykernel/ipkernel.py\", line 766, in run_closure\n",
      "    _threading_Thread_run(self)\n",
      "  File \"/home/diegocaro/miniconda3/envs/ds/lib/python3.12/threading.py\", line 1012, in run\n",
      "    self._target(*self._args, **self._kwargs)\n",
      "  File \"/home/diegocaro/notebooks/soylentgreen/aqara_viewer.py\", line 89, in refresh_loop\n",
      "    meta = selected_clip.stream\n",
      "           ^^^^^^^^^^^^^^^^^^^^\n",
      "AttributeError: 'Clip' object has no attribute 'stream'\n"
     ]
    }
   ],
   "source": [
    "# AQARAPATH = \"/mnt/cameras/aqara_video\"\n",
    "AQARAPATH = \"/mnt/hdd/diegocaro/aqara_video\"\n",
    "AqaraViewer.create_from_path(AQARAPATH)"
   ]
  },
  {
   "cell_type": "code",
   "execution_count": null,
   "id": "6cab7fb3",
   "metadata": {},
   "outputs": [],
   "source": []
  }
 ],
 "metadata": {
  "kernelspec": {
   "display_name": "Python 3 (ipykernel)",
   "language": "python",
   "name": "python3"
  },
  "language_info": {
   "codemirror_mode": {
    "name": "ipython",
    "version": 3
   },
   "file_extension": ".py",
   "mimetype": "text/x-python",
   "name": "python",
   "nbconvert_exporter": "python",
   "pygments_lexer": "ipython3",
   "version": "3.12.9"
  }
 },
 "nbformat": 4,
 "nbformat_minor": 5
}
