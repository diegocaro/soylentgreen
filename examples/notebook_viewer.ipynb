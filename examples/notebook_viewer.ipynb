{
 "cells": [
  {
   "cell_type": "code",
   "execution_count": 1,
   "id": "763112ad-575a-48b1-b496-5325ec2ebede",
   "metadata": {},
   "outputs": [],
   "source": [
    "%load_ext autoreload\n",
    "%autoreload 2"
   ]
  },
  {
   "cell_type": "code",
   "execution_count": 3,
   "id": "0980e734",
   "metadata": {},
   "outputs": [],
   "source": [
    "from aqara_video.viewers.jupyter_viewer import JupyterViewer"
   ]
  },
  {
   "cell_type": "code",
   "execution_count": 5,
   "id": "753f81ca",
   "metadata": {},
   "outputs": [
    {
     "data": {
      "application/vnd.jupyter.widget-view+json": {
       "model_id": "c75fc330e44d4d27911b54c4a822225c",
       "version_major": 2,
       "version_minor": 0
      },
      "text/plain": [
       "VBox(children=(Dropdown(description='Camera:', options=(('Pasto', PosixPath('/mnt/hdd/diegocaro/aqara_video/lu…"
      ]
     },
     "metadata": {},
     "output_type": "display_data"
    },
    {
     "data": {
      "text/plain": [
       "<aqara_video.viewers.jupyter_viewer.JupyterViewer at 0x70d90459a6f0>"
      ]
     },
     "execution_count": 5,
     "metadata": {},
     "output_type": "execute_result"
    }
   ],
   "source": [
    "AQARAPATH = \"/mnt/hdd/diegocaro/aqara_video\"\n",
    "JupyterViewer.create_from_path(AQARAPATH)"
   ]
  },
  {
   "cell_type": "code",
   "execution_count": null,
   "id": "6cab7fb3",
   "metadata": {},
   "outputs": [],
   "source": []
  }
 ],
 "metadata": {
  "kernelspec": {
   "display_name": "Python 3 (ipykernel)",
   "language": "python",
   "name": "python3"
  },
  "language_info": {
   "codemirror_mode": {
    "name": "ipython",
    "version": 3
   },
   "file_extension": ".py",
   "mimetype": "text/x-python",
   "name": "python",
   "nbconvert_exporter": "python",
   "pygments_lexer": "ipython3",
   "version": "3.12.9"
  }
 },
 "nbformat": 4,
 "nbformat_minor": 5
}
